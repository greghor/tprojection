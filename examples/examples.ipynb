{
 "cells": [
  {
   "cell_type": "code",
   "execution_count": null,
   "metadata": {},
   "outputs": [],
   "source": [
    "##{\n",
    "from matplotlib import pyplot as plt\n",
    "import pandas as pd\n",
    "import pdb\n",
    "from tprojection.core import Tprojection\n",
    "from tprojection.datasets import load_data\n",
    "##}"
   ]
  },
  {
   "cell_type": "code",
   "execution_count": null,
   "metadata": {},
   "outputs": [],
   "source": [
    "fig_dir = \"examples/\""
   ]
  },
  {
   "cell_type": "code",
   "execution_count": null,
   "metadata": {
    "lines_to_next_cell": 2
   },
   "outputs": [],
   "source": [
    "##{ test with titanic dataset\n",
    "df = load_data(\"titanic\")\n",
    "target = \"survived\"\n",
    "##}"
   ]
  },
  {
   "cell_type": "code",
   "execution_count": null,
   "metadata": {},
   "outputs": [],
   "source": [
    "##{ example of target, feature being both categorical. The confidence interval is estiamted by bootsrapping with 100 estimators\n",
    "tproj = Tprojection(df, target, feature, target_type=\"categorical\", feature_type=\"categorical\", n_estimators=100)\n",
    "tproj.plot()\n",
    "##}"
   ]
  },
  {
   "cell_type": "code",
   "execution_count": null,
   "metadata": {},
   "outputs": [],
   "source": [
    "##{ example of target, feature being  categorical and continuous, resp.\n",
    "## note that I do not explicitely provide the type of variables here (categorical or continuous),\n",
    "## it is infered by the class using a simple rule of thumb\n",
    "tproj = Tprojection(df, target, feature)\n",
    "tproj.plot()\n",
    "##}"
   ]
  },
  {
   "cell_type": "code",
   "execution_count": null,
   "metadata": {},
   "outputs": [],
   "source": [
    "##{ example of target, feature being both categorical. Here, we use a dummy encoding since the number of original features modalities is too high\n",
    "tproj = Tprojection(df, target, feature, feature_type=\"categorical\", nb_modalities=10, n_estimators=100)\n",
    "tproj.plot()\n",
    "print(tproj.encoding) # contains the mapping between the original modalities and the encoded modalities\n",
    "##}"
   ]
  },
  {
   "cell_type": "code",
   "execution_count": null,
   "metadata": {},
   "outputs": [],
   "source": [
    "##{ example with target, feature being continuous, categorical resp.\n",
    "tproj = Tprojection(df, \"fare\", \"cabin\", feature_type=\"categorical\", nb_modalities=10)\n",
    "tproj.plot()\n",
    "print(tproj.encoding) # contains the mapping between the original modalities and the encoded \n",
    "##}"
   ]
  },
  {
   "cell_type": "code",
   "execution_count": null,
   "metadata": {
    "lines_to_next_cell": 2
   },
   "outputs": [],
   "source": [
    "##{ example with target, feature being both continuous. Not the most interesting \n",
    "# situation, since we use a simple scatter plot here.\n",
    "tproj = Tprojection(df, \"fare\", \"age\", nb_modalities=10)\n",
    "tproj.plot()\n",
    "##}"
   ]
  }
 ],
 "metadata": {
  "jupytext": {
   "cell_metadata_filter": "-all",
   "main_language": "python",
   "notebook_metadata_filter": "-all"
  }
 },
 "nbformat": 4,
 "nbformat_minor": 4
}
